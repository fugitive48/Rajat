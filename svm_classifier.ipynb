{
 "cells": [
  {
   "cell_type": "markdown",
   "id": "7ec8b981-5f4c-452c-8f2e-bcc8b929c39c",
   "metadata": {},
   "source": [
    "## Support Vector Machine"
   ]
  },
  {
   "cell_type": "code",
   "execution_count": 1,
   "id": "555a92cb-5506-4c78-bb31-3bed1d693706",
   "metadata": {},
   "outputs": [],
   "source": [
    "import pandas as pd\n",
    "import numpy as np\n",
    "import matplotlib.pyplot as plot\n",
    "import seaborn as sns\n",
    "%matplotlib inline"
   ]
  },
  {
   "cell_type": "code",
   "execution_count": 10,
   "id": "9bf48058-f1b8-4b95-83c0-92d94df7be73",
   "metadata": {},
   "outputs": [],
   "source": [
    "df=pd.read_csv('C:/Users/prern/OneDrive/Desktop/Dataset/IRIS_FLOWER/IRIS.csv')"
   ]
  },
  {
   "cell_type": "code",
   "execution_count": 12,
   "id": "2187dc69-9369-4bec-b96a-4dfea8e4d8ef",
   "metadata": {},
   "outputs": [
    {
     "data": {
      "text/plain": [
       "pandas.core.frame.DataFrame"
      ]
     },
     "execution_count": 12,
     "metadata": {},
     "output_type": "execute_result"
    }
   ],
   "source": [
    "df.head(2)\n",
    "X=df[['sepal_length','sepal_width','petal_length','petal_width']]\n",
    "y=df.species\n",
    "type(X)"
   ]
  },
  {
   "cell_type": "code",
   "execution_count": 31,
   "id": "ebac9598-ab1d-4ca5-9049-9438f94537b4",
   "metadata": {},
   "outputs": [],
   "source": [
    "from sklearn.model_selection import GridSearchCV \n",
    "param = {'C': [0.1, 1, 10, 100, 1000]}  "
   ]
  },
  {
   "cell_type": "code",
   "execution_count": 51,
   "id": "b1f13f1b-7077-4bf0-be52-85a69f243abf",
   "metadata": {},
   "outputs": [],
   "source": [
    "from sklearn import metrics"
   ]
  },
  {
   "cell_type": "code",
   "execution_count": 13,
   "id": "16b98fd5-d5e0-4b71-a356-662774f18ae2",
   "metadata": {},
   "outputs": [],
   "source": [
    "from sklearn.model_selection import train_test_split\n",
    "X_train, X_test, y_train, y_test = train_test_split(X, y, test_size=0.33, random_state=42)"
   ]
  },
  {
   "cell_type": "code",
   "execution_count": 52,
   "id": "04023b78-880d-4515-947b-9fed26432089",
   "metadata": {},
   "outputs": [
    {
     "name": "stdout",
     "output_type": "stream",
     "text": [
      "                 precision    recall  f1-score   support\n",
      "\n",
      "    Iris-setosa       1.00      1.00      1.00        50\n",
      "Iris-versicolor       0.98      0.96      0.97        50\n",
      " Iris-virginica       0.96      0.98      0.97        50\n",
      "\n",
      "       accuracy                           0.98       150\n",
      "      macro avg       0.98      0.98      0.98       150\n",
      "   weighted avg       0.98      0.98      0.98       150\n",
      "\n"
     ]
    }
   ],
   "source": [
    "from sklearn.svm import SVC\n",
    "seed = 1111\n",
    "classifier=GridSearchCV (SVC(kernel='linear',random_state=0), param)\n",
    "classifier.fit(X_train,y_train)\n",
    "y_pred=classifier.predict(X)\n",
    "from sklearn.metrics import accuracy_score\n",
    "##accuracy_score(y_test,y_pred)\n",
    "classifier.score(X,y)\n",
    "print(metrics.classification_report(y,y_pred))\n",
    "\n"
   ]
  },
  {
   "cell_type": "code",
   "execution_count": 53,
   "id": "d3a3395d-6be5-4685-b02c-03d68ca880c7",
   "metadata": {},
   "outputs": [
    {
     "name": "stdout",
     "output_type": "stream",
     "text": [
      "[[50  0  0]\n",
      " [ 0 48  2]\n",
      " [ 0  1 49]]\n"
     ]
    }
   ],
   "source": [
    "print(metrics.confusion_matrix(y,y_pred))"
   ]
  },
  {
   "cell_type": "code",
   "execution_count": 110,
   "id": "c972eac4-df76-4de3-ac5a-fa910858593f",
   "metadata": {},
   "outputs": [
    {
     "name": "stdout",
     "output_type": "stream",
     "text": [
      "(22, 28)\n"
     ]
    }
   ],
   "source": [
    "XA=df.iloc[:,:2]\n",
    "h=.2\n",
    "x_min,x_max= XA.iloc[:,0].min()-1,XA.iloc[:,0].max()+1\n",
    "y_min,y_max=XA.iloc[:,1].min()-1,XA.iloc[:,1].max()+1\n",
    "xx,yy=np.meshgrid(np.arange(x_min,x_max,h),np.arange(y_min,y_max,h))\n",
    "ggrid=SVC()\n",
    "xa=X[:,:2]\n",
    "ggrid.fit(xa,y)\n",
    "Z=ggrid.predict(np.c_[xx.ravel(),yy.ravel()])\n",
    "Z=Z.reshape(xx.shape)\n",
    "print(Z.shape)\n"
   ]
  },
  {
   "cell_type": "code",
   "execution_count": 73,
   "id": "3aa1ab65-bbea-447b-af80-e7ca08ff292d",
   "metadata": {},
   "outputs": [
    {
     "data": {
      "text/plain": [
       "array([1, 2, 3])"
      ]
     },
     "execution_count": 73,
     "metadata": {},
     "output_type": "execute_result"
    }
   ],
   "source": [
    "np.array([1,2,3])"
   ]
  },
  {
   "cell_type": "code",
   "execution_count": 129,
   "id": "0dc23949-81fa-4380-bb1b-c9b69b8e636a",
   "metadata": {},
   "outputs": [],
   "source": [
    "Xa=X[:,:2]\n",
    "def mysvmclassifier(mykernel, myc, mygamma):\n",
    "    grid=SVC(kernel=mykernel,C=myc,gamma=mygamma)\n",
    "    grid.fit(Xa,y)\n",
    "    h=.02\n",
    "    x_min,x_max= XA.iloc[:,0].min()-1,XA.iloc[:,0].max()+1\n",
    "    y_min,y_max=XA.iloc[:,1].min()-1,XA.iloc[:,1].max()+1\n",
    "    xx,yy=np.meshgrid(np.arange(x_min,x_max,h),np.arange(y_min,y_max,h))\n",
    "    plot.subplot(1,1,1)\n",
    "    Z=grid.predict(np.c_[xx.ravel(),yy.ravel()])\n",
    "    Z=Z.reshape(xx.shape)\n",
    "    ##plot.contourf(xx,yy,Z,cmp=plot.cm.Paired,alpha=.8)\n",
    "    plot.scatter(Xa[:,0],Xa[:,1],c=y)\n",
    "    plot.xlabel('slen')\n",
    "    plot.ylabel('plen')\n",
    "    plot.xlim(xx.min(),xx.max())\n",
    "    plot.show()\n",
    "\n",
    "\n",
    "    "
   ]
  },
  {
   "cell_type": "code",
   "execution_count": 130,
   "id": "87f8044a-7c6a-48b8-a3be-4f17c19243e2",
   "metadata": {},
   "outputs": [
    {
     "data": {
      "image/png": "[encoded data removed]",
      "text/plain": [
       "<Figure size 640x480 with 1 Axes>"
      ]
     },
     "metadata": {},
     "output_type": "display_data"
    }
   ],
   "source": [
    "mysvmclassifier(mykernel ='linear', myc=1,mygamma=1)\n",
    "                                                       "
   ]
  },
  {
   "cell_type": "code",
   "execution_count": null,
   "id": "fa821fb8-89e0-4550-b3b5-bb2931b3053c",
   "metadata": {},
   "outputs": [],
   "source": []
  },
  {
   "cell_type": "code",
   "execution_count": null,
   "id": "5dd4bc25-09b8-41c5-8d2a-4417850157e5",
   "metadata": {},
   "outputs": [],
   "source": []
  }
 ],
 "metadata": {
  "kernelspec": {
   "display_name": "Python 3 (ipykernel)",
   "language": "python",
   "name": "python3"
  },
  "language_info": {
   "codemirror_mode": {
    "name": "ipython",
    "version": 3
   },
   "file_extension": ".py",
   "mimetype": "text/x-python",
   "name": "python",
   "nbconvert_exporter": "python",
   "pygments_lexer": "ipython3",
   "version": "3.12.7"
  }
 },
 "nbformat": 4,
 "nbformat_minor": 5
}
